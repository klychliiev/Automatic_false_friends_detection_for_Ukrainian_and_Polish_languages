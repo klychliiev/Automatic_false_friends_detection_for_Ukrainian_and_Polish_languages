{
 "cells": [
  {
   "attachments": {},
   "cell_type": "markdown",
   "metadata": {},
   "source": [
    "# Orthographic similarity classification"
   ]
  },
  {
   "cell_type": "code",
   "execution_count": 1,
   "metadata": {},
   "outputs": [],
   "source": [
    "# Install dependencies\n",
    "from polyglot.downloader import downloader\n",
    "from polyglot.text import Text \n",
    "from math import floor, ceil\n",
    "from sklearn.metrics import classification_report, confusion_matrix\n",
    "import seaborn as sns \n",
    "import matplotlib.pyplot as plt \n",
    "import pandas as pd"
   ]
  },
  {
   "cell_type": "code",
   "execution_count": 2,
   "metadata": {},
   "outputs": [],
   "source": [
    "# Define a function to calculate the Jaro similarity \n",
    "\n",
    "def jaro_distance(s1, s2):\n",
    "     \n",
    "    # If the s are equal\n",
    "    if (s1 == s2):\n",
    "        return 1.0\n",
    " \n",
    "    # Length of two s\n",
    "    len1 = len(s1)\n",
    "    len2 = len(s2)\n",
    " \n",
    "    # Maximum distance upto which matching\n",
    "    # is allowed\n",
    "    max_dist = floor(max(len1, len2) / 2) - 1\n",
    " \n",
    "    # Count of matches\n",
    "    match = 0\n",
    " \n",
    "    # Hash for matches\n",
    "    hash_s1 = [0] * len(s1)\n",
    "    hash_s2 = [0] * len(s2)\n",
    " \n",
    "    # Traverse through the first\n",
    "    for i in range(len1):\n",
    " \n",
    "        # Check if there is any matches\n",
    "        for j in range(max(0, i - max_dist),\n",
    "                       min(len2, i + max_dist + 1)):\n",
    "             \n",
    "            # If there is a match\n",
    "            if (s1[i] == s2[j] and hash_s2[j] == 0):\n",
    "                hash_s1[i] = 1\n",
    "                hash_s2[j] = 1\n",
    "                match += 1\n",
    "                break\n",
    " \n",
    "    # If there is no match\n",
    "    if (match == 0):\n",
    "        return 0.0\n",
    " \n",
    "    # Number of transpositions\n",
    "    t = 0\n",
    "    point = 0\n",
    " \n",
    "    # Count number of occurrences\n",
    "    # where two characters match but\n",
    "    # there is a third matched character\n",
    "    # in between the indices\n",
    "    for i in range(len1):\n",
    "        if (hash_s1[i]):\n",
    " \n",
    "            # Find the next matched character\n",
    "            # in second\n",
    "            while (hash_s2[point] == 0):\n",
    "                point += 1\n",
    " \n",
    "            if (s1[i] != s2[point]):\n",
    "                t += 1\n",
    "            point += 1\n",
    "    t = t//2\n",
    " \n",
    "    # Return the Jaro Similarity\n",
    "    return (match/ len1 + match / len2 +\n",
    "            (match - t) / match)/ 3.0"
   ]
  },
  {
   "cell_type": "code",
   "execution_count": 3,
   "metadata": {},
   "outputs": [
    {
     "name": "stdout",
     "output_type": "stream",
     "text": [
      "   id            pl               uk  false_friends  orthographic_sim\n",
      "0   1     śniadanie         сніданок              0                 1\n",
      "1   2  wegetarianin  вегетаріанський              0                 1\n",
      "2   3         napój            напій              0                 1\n",
      "3   4          kawa             кава              0                 1\n",
      "4   5           sok              сік              0                 1\n",
      "      id           pl          uk  false_friends  orthographic_sim\n",
      "871  872         pień  обрахувати              2                 0\n",
      "872  873   podróżować    порушити              2                 0\n",
      "873  874       czyhać     порвати              2                 0\n",
      "874  875  dwadzieścia      сапати              2                 0\n",
      "875  876        słaby      точити              2                 0\n",
      "1    438\n",
      "0    438\n",
      "Name: orthographic_sim, dtype: int64\n"
     ]
    }
   ],
   "source": [
    "# Preprocess the dataset \n",
    "\n",
    "dataset = pd.read_csv('datasets/dataset.csv')\n",
    "\n",
    "dataset = dataset.drop('Unnamed: 0', axis=1)\n",
    "\n",
    "dataset['orthographic_sim'] = dataset['false_friends'].replace({0:1,1:1,2:0})\n",
    "\n",
    "print(dataset.head())\n",
    "\n",
    "print(dataset.tail())\n",
    "\n",
    "print(dataset['orthographic_sim'].value_counts())\n",
    "\n",
    "y_true = dataset['orthographic_sim'].to_list()"
   ]
  },
  {
   "cell_type": "code",
   "execution_count": 4,
   "metadata": {},
   "outputs": [],
   "source": [
    "# Make predictions \n",
    "similarities = []\n",
    "\n",
    "for row in dataset.iterrows():\n",
    "    pl_word = row[1][1]\n",
    "    uk_word = row[1][2]\n",
    "\n",
    "    blob = uk_word\n",
    "    text = Text(blob, hint_language_code='uk')\n",
    "    uk_translitareted = str(text.transliterate('en')[0])\n",
    "\n",
    "    blob2 = pl_word\n",
    "    text2 = Text(blob2, hint_language_code='pl')\n",
    "    pl_transliterated = str(text2.transliterate('en')[0])\n",
    "\n",
    "    similarity_value = round(jaro_distance(uk_translitareted, pl_transliterated),6)\n",
    "\n",
    "    if similarity_value >= 0.6:\n",
    "        similarities.append(1)\n",
    "    else:\n",
    "        similarities.append(0)"
   ]
  },
  {
   "cell_type": "code",
   "execution_count": 5,
   "metadata": {},
   "outputs": [
    {
     "name": "stdout",
     "output_type": "stream",
     "text": [
      "              precision    recall  f1-score   support\n",
      "\n",
      "           0       0.90      0.95      0.92       438\n",
      "           1       0.94      0.89      0.92       438\n",
      "\n",
      "    accuracy                           0.92       876\n",
      "   macro avg       0.92      0.92      0.92       876\n",
      "weighted avg       0.92      0.92      0.92       876\n",
      "\n"
     ]
    }
   ],
   "source": [
    "print(classification_report(y_true, similarities))"
   ]
  },
  {
   "cell_type": "code",
   "execution_count": 6,
   "metadata": {},
   "outputs": [],
   "source": [
    "confusion_matrix = confusion_matrix(y_true, similarities)"
   ]
  },
  {
   "cell_type": "code",
   "execution_count": 7,
   "metadata": {},
   "outputs": [
    {
     "data": {
      "text/plain": [
       "[Text(0, 0.5, 'non-homographs'), Text(0, 1.5, 'homographs')]"
      ]
     },
     "execution_count": 7,
     "metadata": {},
     "output_type": "execute_result"
    },
    {
     "data": {
      "image/png": "[encoded data removed]",
      "text/plain": [
       "<Figure size 640x480 with 2 Axes>"
      ]
     },
     "metadata": {},
     "output_type": "display_data"
    }
   ],
   "source": [
    "ax = plt.subplot()\n",
    "sns.heatmap(confusion_matrix,annot=True,fmt='.0f',cmap='Greys')\n",
    "\n",
    "# labels, title and ticks\n",
    "ax.set_xlabel('Predicted labels')\n",
    "ax.set_ylabel('True labels')\n",
    "ax.set_title('Confusion matrix') \n",
    "ax.xaxis.set_ticklabels(['non-homographs', 'homographs'])\n",
    "ax.yaxis.set_ticklabels(['non-homographs', 'homographs'])"
   ]
  },
  {
   "cell_type": "code",
   "execution_count": 9,
   "metadata": {},
   "outputs": [],
   "source": [
    "dataset['predictions'] = similarities"
   ]
  },
  {
   "cell_type": "code",
   "execution_count": 10,
   "metadata": {},
   "outputs": [
    {
     "data": {
      "text/html": [
       "<div>\n",
       "<style scoped>\n",
       "    .dataframe tbody tr th:only-of-type {\n",
       "        vertical-align: middle;\n",
       "    }\n",
       "\n",
       "    .dataframe tbody tr th {\n",
       "        vertical-align: top;\n",
       "    }\n",
       "\n",
       "    .dataframe thead th {\n",
       "        text-align: right;\n",
       "    }\n",
       "</style>\n",
       "<table border=\"1\" class=\"dataframe\">\n",
       "  <thead>\n",
       "    <tr style=\"text-align: right;\">\n",
       "      <th></th>\n",
       "      <th>id</th>\n",
       "      <th>pl</th>\n",
       "      <th>uk</th>\n",
       "      <th>false_friends</th>\n",
       "      <th>orthographic_sim</th>\n",
       "      <th>predictions</th>\n",
       "    </tr>\n",
       "  </thead>\n",
       "  <tbody>\n",
       "    <tr>\n",
       "      <th>0</th>\n",
       "      <td>1</td>\n",
       "      <td>śniadanie</td>\n",
       "      <td>сніданок</td>\n",
       "      <td>0</td>\n",
       "      <td>1</td>\n",
       "      <td>1</td>\n",
       "    </tr>\n",
       "    <tr>\n",
       "      <th>1</th>\n",
       "      <td>2</td>\n",
       "      <td>wegetarianin</td>\n",
       "      <td>вегетаріанський</td>\n",
       "      <td>0</td>\n",
       "      <td>1</td>\n",
       "      <td>1</td>\n",
       "    </tr>\n",
       "    <tr>\n",
       "      <th>2</th>\n",
       "      <td>3</td>\n",
       "      <td>napój</td>\n",
       "      <td>напій</td>\n",
       "      <td>0</td>\n",
       "      <td>1</td>\n",
       "      <td>1</td>\n",
       "    </tr>\n",
       "    <tr>\n",
       "      <th>3</th>\n",
       "      <td>4</td>\n",
       "      <td>kawa</td>\n",
       "      <td>кава</td>\n",
       "      <td>0</td>\n",
       "      <td>1</td>\n",
       "      <td>1</td>\n",
       "    </tr>\n",
       "    <tr>\n",
       "      <th>4</th>\n",
       "      <td>5</td>\n",
       "      <td>sok</td>\n",
       "      <td>сік</td>\n",
       "      <td>0</td>\n",
       "      <td>1</td>\n",
       "      <td>1</td>\n",
       "    </tr>\n",
       "    <tr>\n",
       "      <th>...</th>\n",
       "      <td>...</td>\n",
       "      <td>...</td>\n",
       "      <td>...</td>\n",
       "      <td>...</td>\n",
       "      <td>...</td>\n",
       "      <td>...</td>\n",
       "    </tr>\n",
       "    <tr>\n",
       "      <th>871</th>\n",
       "      <td>872</td>\n",
       "      <td>pień</td>\n",
       "      <td>обрахувати</td>\n",
       "      <td>2</td>\n",
       "      <td>0</td>\n",
       "      <td>0</td>\n",
       "    </tr>\n",
       "    <tr>\n",
       "      <th>872</th>\n",
       "      <td>873</td>\n",
       "      <td>podróżować</td>\n",
       "      <td>порушити</td>\n",
       "      <td>2</td>\n",
       "      <td>0</td>\n",
       "      <td>1</td>\n",
       "    </tr>\n",
       "    <tr>\n",
       "      <th>873</th>\n",
       "      <td>874</td>\n",
       "      <td>czyhać</td>\n",
       "      <td>порвати</td>\n",
       "      <td>2</td>\n",
       "      <td>0</td>\n",
       "      <td>0</td>\n",
       "    </tr>\n",
       "    <tr>\n",
       "      <th>874</th>\n",
       "      <td>875</td>\n",
       "      <td>dwadzieścia</td>\n",
       "      <td>сапати</td>\n",
       "      <td>2</td>\n",
       "      <td>0</td>\n",
       "      <td>0</td>\n",
       "    </tr>\n",
       "    <tr>\n",
       "      <th>875</th>\n",
       "      <td>876</td>\n",
       "      <td>słaby</td>\n",
       "      <td>точити</td>\n",
       "      <td>2</td>\n",
       "      <td>0</td>\n",
       "      <td>0</td>\n",
       "    </tr>\n",
       "  </tbody>\n",
       "</table>\n",
       "<p>876 rows × 6 columns</p>\n",
       "</div>"
      ],
      "text/plain": [
       "      id            pl               uk  false_friends  orthographic_sim  \\\n",
       "0      1     śniadanie         сніданок              0                 1   \n",
       "1      2  wegetarianin  вегетаріанський              0                 1   \n",
       "2      3         napój            напій              0                 1   \n",
       "3      4          kawa             кава              0                 1   \n",
       "4      5           sok              сік              0                 1   \n",
       "..   ...           ...              ...            ...               ...   \n",
       "871  872          pień       обрахувати              2                 0   \n",
       "872  873    podróżować         порушити              2                 0   \n",
       "873  874        czyhać          порвати              2                 0   \n",
       "874  875   dwadzieścia           сапати              2                 0   \n",
       "875  876         słaby           точити              2                 0   \n",
       "\n",
       "     predictions  \n",
       "0              1  \n",
       "1              1  \n",
       "2              1  \n",
       "3              1  \n",
       "4              1  \n",
       "..           ...  \n",
       "871            0  \n",
       "872            1  \n",
       "873            0  \n",
       "874            0  \n",
       "875            0  \n",
       "\n",
       "[876 rows x 6 columns]"
      ]
     },
     "execution_count": 10,
     "metadata": {},
     "output_type": "execute_result"
    }
   ],
   "source": [
    "dataset"
   ]
  },
  {
   "cell_type": "code",
   "execution_count": 8,
   "metadata": {},
   "outputs": [],
   "source": [
    "dataset.to_csv('datasets/updated_dataset.csv')"
   ]
  },
  {
   "cell_type": "code",
   "execution_count": null,
   "metadata": {},
   "outputs": [],
   "source": []
  }
 ],
 "metadata": {
  "kernelspec": {
   "display_name": "Python 3",
   "language": "python",
   "name": "python3"
  },
  "language_info": {
   "codemirror_mode": {
    "name": "ipython",
    "version": 3
   },
   "file_extension": ".py",
   "mimetype": "text/x-python",
   "name": "python",
   "nbconvert_exporter": "python",
   "pygments_lexer": "ipython3",
   "version": "3.10.6"
  },
  "orig_nbformat": 4
 },
 "nbformat": 4,
 "nbformat_minor": 2
}
