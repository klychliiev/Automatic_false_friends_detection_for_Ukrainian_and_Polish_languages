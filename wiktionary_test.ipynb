{
 "cells": [
  {
   "cell_type": "code",
   "execution_count": 1,
   "metadata": {},
   "outputs": [
    {
     "name": "stdout",
     "output_type": "stream",
     "text": [
      "Collecting wiktionaryparser\n",
      "  Downloading wiktionaryparser-0.0.97-py3-none-any.whl (19 kB)\n",
      "Requirement already satisfied: requests in ./diploma-env/lib/python3.10/site-packages (from wiktionaryparser) (2.31.0)\n",
      "Requirement already satisfied: beautifulsoup4 in ./diploma-env/lib/python3.10/site-packages (from wiktionaryparser) (4.10.0)\n",
      "Requirement already satisfied: soupsieve>1.2 in ./diploma-env/lib/python3.10/site-packages (from beautifulsoup4->wiktionaryparser) (2.5)\n",
      "Requirement already satisfied: charset-normalizer<4,>=2 in ./diploma-env/lib/python3.10/site-packages (from requests->wiktionaryparser) (3.3.2)\n",
      "Requirement already satisfied: urllib3<3,>=1.21.1 in ./diploma-env/lib/python3.10/site-packages (from requests->wiktionaryparser) (2.2.1)\n",
      "Requirement already satisfied: certifi>=2017.4.17 in ./diploma-env/lib/python3.10/site-packages (from requests->wiktionaryparser) (2024.2.2)\n",
      "Requirement already satisfied: idna<4,>=2.5 in ./diploma-env/lib/python3.10/site-packages (from requests->wiktionaryparser) (3.7)\n",
      "Installing collected packages: wiktionaryparser\n",
      "Successfully installed wiktionaryparser-0.0.97\n"
     ]
    }
   ],
   "source": [
    "!pip install wiktionaryparser"
   ]
  },
  {
   "cell_type": "code",
   "execution_count": 28,
   "metadata": {},
   "outputs": [],
   "source": [
    "from wiktionaryparser import WiktionaryParser \n",
    "\n",
    "parser = WiktionaryParser()\n",
    " \n",
    "word = parser.fetch(\"Росія\", \"ukrainian\")"
   ]
  },
  {
   "cell_type": "code",
   "execution_count": 29,
   "metadata": {},
   "outputs": [
    {
     "data": {
      "text/plain": [
       "[{'etymology': '',\n",
       "  'definitions': [{'partOfSpeech': 'proper noun',\n",
       "    'text': ['Росі́я • (Rosíja)\\xa0f\\xa0inan (genitive Росі́ї, uncountable, relational adjective росі́йський)',\n",
       "     'Russia (a country in Eastern Europe and Asia)'],\n",
       "    'relatedWords': [{'relationshipType': 'coordinate terms',\n",
       "      'words': ['Каца́пщина (Kacápščyna) (offensive, derogatory)',\n",
       "       'Моско́вія (Moskóvija) (derogatory)',\n",
       "       'оркоста́н (orkostán) (internet slang, derogatory)',\n",
       "       'Раша (Raša) (derogatory)',\n",
       "       'ₚосі́я (ᵣosíja) (neologism, internet slang, derogatory)',\n",
       "       'РоZZі́я (RoZZíja) (neologism, internet slang, derogatory)',\n",
       "       'хуйлоста́н (xujlostán) (derogatory)']},\n",
       "     {'relationshipType': 'related terms',\n",
       "      'words': ['Малоро́сія (Malorósija)',\n",
       "       'росі́йський (rosíjsʹkyj)',\n",
       "       'росія́нин (rosijányn), росія́нка (rosijánka)',\n",
       "       'Русь (Rusʹ)']}],\n",
       "    'examples': ['Synonym: Росі́йська Федера́ція  ']}],\n",
       "  'pronunciations': {'text': ['IPA: [roˈsʲijɐ]'], 'audio': []}}]"
      ]
     },
     "execution_count": 29,
     "metadata": {},
     "output_type": "execute_result"
    }
   ],
   "source": [
    "word"
   ]
  },
  {
   "cell_type": "code",
   "execution_count": null,
   "metadata": {},
   "outputs": [],
   "source": []
  }
 ],
 "metadata": {
  "kernelspec": {
   "display_name": "diploma-env",
   "language": "python",
   "name": "python3"
  },
  "language_info": {
   "codemirror_mode": {
    "name": "ipython",
    "version": 3
   },
   "file_extension": ".py",
   "mimetype": "text/x-python",
   "name": "python",
   "nbconvert_exporter": "python",
   "pygments_lexer": "ipython3",
   "version": "3.10.12"
  }
 },
 "nbformat": 4,
 "nbformat_minor": 2
}
