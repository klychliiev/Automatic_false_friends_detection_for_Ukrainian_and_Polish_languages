{
 "cells": [
  {
   "cell_type": "code",
   "execution_count": 9,
   "metadata": {},
   "outputs": [
    {
     "name": "stdout",
     "output_type": "stream",
     "text": [
      "Collecting requests==2.7.0\n",
      "  Downloading requests-2.7.0-py2.py3-none-any.whl (470 kB)\n",
      "\u001b[2K     \u001b[38;2;114;156;31m━━━━━━━━━━━━━━━━━━━━━━━━━━━━━━━━━━━━━━━\u001b[0m \u001b[32m470.6/470.6 KB\u001b[0m \u001b[31m3.0 MB/s\u001b[0m eta \u001b[36m0:00:00\u001b[0m[31m2.2 MB/s\u001b[0m eta \u001b[36m0:00:01\u001b[0m\n",
      "\u001b[?25hCollecting beautifulsoup4==4.4.0\n",
      "  Downloading beautifulsoup4-4.4.0-py3-none-any.whl (80 kB)\n",
      "\u001b[2K     \u001b[38;2;114;156;31m━━━━━━━━━━━━━━━━━━━━━━━━━━━━━━━━━━━━━━━━\u001b[0m \u001b[32m81.0/81.0 KB\u001b[0m \u001b[31m7.0 MB/s\u001b[0m eta \u001b[36m0:00:00\u001b[0m\n",
      "\u001b[?25hInstalling collected packages: requests, beautifulsoup4\n",
      "  Attempting uninstall: requests\n",
      "    Found existing installation: requests 2.31.0\n",
      "    Uninstalling requests-2.31.0:\n",
      "      Successfully uninstalled requests-2.31.0\n",
      "  Attempting uninstall: beautifulsoup4\n",
      "    Found existing installation: beautifulsoup4 4.10.0\n",
      "    Uninstalling beautifulsoup4-4.10.0:\n",
      "      Successfully uninstalled beautifulsoup4-4.10.0\n",
      "\u001b[31mERROR: pip's dependency resolver does not currently take into account all the packages that are installed. This behaviour is the source of the following dependency conflicts.\n",
      "weasel 0.3.4 requires requests<3.0.0,>=2.13.0, but you have requests 2.7.0 which is incompatible.\n",
      "streamlit 1.34.0 requires requests<3,>=2.27, but you have requests 2.7.0 which is incompatible.\n",
      "spacy 3.7.4 requires requests<3.0.0,>=2.13.0, but you have requests 2.7.0 which is incompatible.\u001b[0m\u001b[31m\n",
      "\u001b[0mSuccessfully installed beautifulsoup4-4.4.0 requests-2.7.0\n"
     ]
    }
   ],
   "source": [
    "!pip install requests==2.7.0 beautifulsoup4==4.4.0"
   ]
  },
  {
   "cell_type": "code",
   "execution_count": 10,
   "metadata": {},
   "outputs": [
    {
     "ename": "IndexError",
     "evalue": "list index out of range",
     "output_type": "error",
     "traceback": [
      "\u001b[0;31m---------------------------------------------------------------------------\u001b[0m",
      "\u001b[0;31mIndexError\u001b[0m                                Traceback (most recent call last)",
      "Cell \u001b[0;32mIn[10], line 7\u001b[0m\n\u001b[1;32m      3\u001b[0m parser \u001b[38;5;241m=\u001b[39m WiktionaryParser()\n\u001b[1;32m      5\u001b[0m parser\u001b[38;5;241m.\u001b[39mset_default_language(\u001b[38;5;124m'\u001b[39m\u001b[38;5;124mfrench\u001b[39m\u001b[38;5;124m'\u001b[39m)\n\u001b[0;32m----> 7\u001b[0m \u001b[43mparser\u001b[49m\u001b[38;5;241;43m.\u001b[39;49m\u001b[43mfetch\u001b[49m\u001b[43m(\u001b[49m\u001b[38;5;124;43m'\u001b[39;49m\u001b[38;5;124;43mbonjour\u001b[39;49m\u001b[38;5;124;43m'\u001b[39;49m\u001b[43m,\u001b[49m\u001b[43m \u001b[49m\u001b[38;5;124;43m'\u001b[39;49m\u001b[38;5;124;43mfrench\u001b[39;49m\u001b[38;5;124;43m'\u001b[39;49m\u001b[43m)\u001b[49m\n",
      "File \u001b[0;32m~/Desktop/Automatic_false_friends_detection_for_Ukrainian_and_Polish_languages/diploma-env/lib/python3.10/site-packages/wiktionaryparser.py:260\u001b[0m, in \u001b[0;36mWiktionaryParser.fetch\u001b[0;34m(self, word, language)\u001b[0m\n\u001b[1;32m    258\u001b[0m \u001b[38;5;28mself\u001b[39m\u001b[38;5;241m.\u001b[39mcurrent_word \u001b[38;5;241m=\u001b[39m word\n\u001b[1;32m    259\u001b[0m \u001b[38;5;28mself\u001b[39m\u001b[38;5;241m.\u001b[39mclean_html()\n\u001b[0;32m--> 260\u001b[0m \u001b[38;5;28;01mreturn\u001b[39;00m \u001b[38;5;28;43mself\u001b[39;49m\u001b[38;5;241;43m.\u001b[39;49m\u001b[43mget_word_data\u001b[49m\u001b[43m(\u001b[49m\u001b[43mlanguage\u001b[49m\u001b[38;5;241;43m.\u001b[39;49m\u001b[43mlower\u001b[49m\u001b[43m(\u001b[49m\u001b[43m)\u001b[49m\u001b[43m)\u001b[49m\n",
      "File \u001b[0;32m~/Desktop/Automatic_false_friends_detection_for_Ukrainian_and_Polish_languages/diploma-env/lib/python3.10/site-packages/wiktionaryparser.py:114\u001b[0m, in \u001b[0;36mWiktionaryParser.get_word_data\u001b[0;34m(self, language)\u001b[0m\n\u001b[1;32m    111\u001b[0m     \u001b[38;5;28;01mif\u001b[39;00m index\u001b[38;5;241m.\u001b[39mstartswith(start_index) \u001b[38;5;129;01mand\u001b[39;00m content_text \u001b[38;5;129;01min\u001b[39;00m \u001b[38;5;28mself\u001b[39m\u001b[38;5;241m.\u001b[39mINCLUDED_ITEMS:\n\u001b[1;32m    112\u001b[0m         word_contents\u001b[38;5;241m.\u001b[39mappend(content)\n\u001b[1;32m    113\u001b[0m word_data \u001b[38;5;241m=\u001b[39m {\n\u001b[0;32m--> 114\u001b[0m     \u001b[38;5;124m'\u001b[39m\u001b[38;5;124mexamples\u001b[39m\u001b[38;5;124m'\u001b[39m: \u001b[38;5;28;43mself\u001b[39;49m\u001b[38;5;241;43m.\u001b[39;49m\u001b[43mparse_examples\u001b[49m\u001b[43m(\u001b[49m\u001b[43mword_contents\u001b[49m\u001b[43m)\u001b[49m,\n\u001b[1;32m    115\u001b[0m     \u001b[38;5;124m'\u001b[39m\u001b[38;5;124mdefinitions\u001b[39m\u001b[38;5;124m'\u001b[39m: \u001b[38;5;28mself\u001b[39m\u001b[38;5;241m.\u001b[39mparse_definitions(word_contents),\n\u001b[1;32m    116\u001b[0m     \u001b[38;5;124m'\u001b[39m\u001b[38;5;124metymologies\u001b[39m\u001b[38;5;124m'\u001b[39m: \u001b[38;5;28mself\u001b[39m\u001b[38;5;241m.\u001b[39mparse_etymologies(word_contents),\n\u001b[1;32m    117\u001b[0m     \u001b[38;5;124m'\u001b[39m\u001b[38;5;124mrelated\u001b[39m\u001b[38;5;124m'\u001b[39m: \u001b[38;5;28mself\u001b[39m\u001b[38;5;241m.\u001b[39mparse_related_words(word_contents),\n\u001b[1;32m    118\u001b[0m     \u001b[38;5;124m'\u001b[39m\u001b[38;5;124mpronunciations\u001b[39m\u001b[38;5;124m'\u001b[39m: \u001b[38;5;28mself\u001b[39m\u001b[38;5;241m.\u001b[39mparse_pronunciations(word_contents),\n\u001b[1;32m    119\u001b[0m }\n\u001b[1;32m    120\u001b[0m json_obj_list \u001b[38;5;241m=\u001b[39m \u001b[38;5;28mself\u001b[39m\u001b[38;5;241m.\u001b[39mmap_to_object(word_data)\n\u001b[1;32m    121\u001b[0m \u001b[38;5;28;01mreturn\u001b[39;00m json_obj_list\n",
      "File \u001b[0;32m~/Desktop/Automatic_false_friends_detection_for_Ukrainian_and_Polish_languages/diploma-env/lib/python3.10/site-packages/wiktionaryparser.py:178\u001b[0m, in \u001b[0;36mWiktionaryParser.parse_examples\u001b[0;34m(self, word_contents)\u001b[0m\n\u001b[1;32m    176\u001b[0m example_list \u001b[38;5;241m=\u001b[39m []\n\u001b[1;32m    177\u001b[0m \u001b[38;5;28;01mfor\u001b[39;00m def_index, def_id, def_type \u001b[38;5;129;01min\u001b[39;00m definition_id_list:\n\u001b[0;32m--> 178\u001b[0m     span_tag \u001b[38;5;241m=\u001b[39m \u001b[38;5;28;43mself\u001b[39;49m\u001b[38;5;241;43m.\u001b[39;49m\u001b[43msoup\u001b[49m\u001b[38;5;241;43m.\u001b[39;49m\u001b[43mfind_all\u001b[49m\u001b[43m(\u001b[49m\u001b[38;5;124;43m'\u001b[39;49m\u001b[38;5;124;43mspan\u001b[39;49m\u001b[38;5;124;43m'\u001b[39;49m\u001b[43m,\u001b[49m\u001b[43m \u001b[49m\u001b[43m{\u001b[49m\u001b[38;5;124;43m'\u001b[39;49m\u001b[38;5;124;43mid\u001b[39;49m\u001b[38;5;124;43m'\u001b[39;49m\u001b[43m:\u001b[49m\u001b[43m \u001b[49m\u001b[43mdef_id\u001b[49m\u001b[43m}\u001b[49m\u001b[43m)\u001b[49m\u001b[43m[\u001b[49m\u001b[38;5;241;43m0\u001b[39;49m\u001b[43m]\u001b[49m\n\u001b[1;32m    179\u001b[0m     table \u001b[38;5;241m=\u001b[39m span_tag\u001b[38;5;241m.\u001b[39mparent\n\u001b[1;32m    180\u001b[0m     \u001b[38;5;28;01mwhile\u001b[39;00m table\u001b[38;5;241m.\u001b[39mname \u001b[38;5;241m!=\u001b[39m \u001b[38;5;124m'\u001b[39m\u001b[38;5;124mol\u001b[39m\u001b[38;5;124m'\u001b[39m:\n",
      "\u001b[0;31mIndexError\u001b[0m: list index out of range"
     ]
    }
   ],
   "source": [
    "from wiktionaryparser import WiktionaryParser \n",
    "\n",
    "parser = WiktionaryParser()\n",
    "\n",
    "parser.set_default_language('french')\n",
    "\n",
    "parser.fetch('bonjour', 'french')\n"
   ]
  },
  {
   "cell_type": "code",
   "execution_count": 29,
   "metadata": {},
   "outputs": [
    {
     "data": {
      "text/plain": [
       "[{'etymology': '',\n",
       "  'definitions': [{'partOfSpeech': 'proper noun',\n",
       "    'text': ['Росі́я • (Rosíja)\\xa0f\\xa0inan (genitive Росі́ї, uncountable, relational adjective росі́йський)',\n",
       "     'Russia (a country in Eastern Europe and Asia)'],\n",
       "    'relatedWords': [{'relationshipType': 'coordinate terms',\n",
       "      'words': ['Каца́пщина (Kacápščyna) (offensive, derogatory)',\n",
       "       'Моско́вія (Moskóvija) (derogatory)',\n",
       "       'оркоста́н (orkostán) (internet slang, derogatory)',\n",
       "       'Раша (Raša) (derogatory)',\n",
       "       'ₚосі́я (ᵣosíja) (neologism, internet slang, derogatory)',\n",
       "       'РоZZі́я (RoZZíja) (neologism, internet slang, derogatory)',\n",
       "       'хуйлоста́н (xujlostán) (derogatory)']},\n",
       "     {'relationshipType': 'related terms',\n",
       "      'words': ['Малоро́сія (Malorósija)',\n",
       "       'росі́йський (rosíjsʹkyj)',\n",
       "       'росія́нин (rosijányn), росія́нка (rosijánka)',\n",
       "       'Русь (Rusʹ)']}],\n",
       "    'examples': ['Synonym: Росі́йська Федера́ція  ']}],\n",
       "  'pronunciations': {'text': ['IPA: [roˈsʲijɐ]'], 'audio': []}}]"
      ]
     },
     "execution_count": 29,
     "metadata": {},
     "output_type": "execute_result"
    }
   ],
   "source": [
    "word"
   ]
  },
  {
   "cell_type": "code",
   "execution_count": null,
   "metadata": {},
   "outputs": [],
   "source": []
  }
 ],
 "metadata": {
  "kernelspec": {
   "display_name": "diploma-env",
   "language": "python",
   "name": "python3"
  },
  "language_info": {
   "codemirror_mode": {
    "name": "ipython",
    "version": 3
   },
   "file_extension": ".py",
   "mimetype": "text/x-python",
   "name": "python",
   "nbconvert_exporter": "python",
   "pygments_lexer": "ipython3",
   "version": "3.10.12"
  }
 },
 "nbformat": 4,
 "nbformat_minor": 2
}
